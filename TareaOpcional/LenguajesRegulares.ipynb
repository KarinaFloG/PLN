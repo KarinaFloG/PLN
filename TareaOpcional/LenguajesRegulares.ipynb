{
 "cells": [
  {
   "cell_type": "markdown",
   "metadata": {},
   "source": [
    "# Tarea opcional: Lenguajes regulares\n",
    "Proponer un transductor finito que procese los verbos regulares conjugados en presente de indicativo a partir del lema o el stem: el transductor tomará como entrada el lema (o stem) y regresará la forma conjugada. Por ejemplo: 'amar+1PL -> amamos'. Implementar reglas ortográficas (sensibles al contexto) cuando sea necesario\n"
   ]
  },
  {
   "cell_type": "markdown",
   "metadata": {},
   "source": [
    "**Alumna:** *Flores García Karina*  \n",
    "**Semestre 2021-2**"
   ]
  },
  {
   "cell_type": "code",
   "execution_count": 63,
   "metadata": {},
   "outputs": [],
   "source": [
    "#Importa paquetes\n",
    "import nltk\n",
    "import re\n",
    "#Definición de función para la conjugación de verbos\n",
    "def transductor(verbo):\n",
    "    conjugacion = []\n",
    "    #Conjugación de verbos regulares que terminan en ar\n",
    "    if re.match(r'[a-z]+ar\\b',verbo,re.IGNORECASE):\n",
    "        conjugacion.append(re.sub(r'ar\\b',r'o',verbo))\n",
    "        conjugacion.append(re.sub(r'ar\\b',r'as',verbo))\n",
    "        conjugacion.append(re.sub(r'ar\\b',r'a',verbo))\n",
    "        conjugacion.append(re.sub(r'ar\\b',r'amos',verbo))\n",
    "        conjugacion.append(re.sub(r'ar\\b',r'áis',verbo))\n",
    "        conjugacion.append(re.sub(r'ar\\b',r'an',verbo))\n",
    "    #Conjugación de verbos regulares que terminan en ir\n",
    "    elif re.match(r'[a-z]+ir\\b',verbo,re.IGNORECASE):\n",
    "        cadena = verbo\n",
    "        cadena = cadena[len(cadena)-3]\n",
    "        if re.match(r'[aeiou]',cadena):\n",
    "            conjugacion.append(re.sub(r'ir\\b',r'yo',verbo))\n",
    "            conjugacion.append(re.sub(r'ir\\b',r'yes',verbo))  \n",
    "            conjugacion.append(re.sub(r'ir\\b',r'ye',verbo))  \n",
    "            conjugacion.append(re.sub(r'ir\\b',r'imos',verbo))  \n",
    "            conjugacion.append(re.sub(r'ir\\b',r'ís',verbo))  \n",
    "            conjugacion.append(re.sub(r'ir\\b',r'yen',verbo))           \n",
    "        else:\n",
    "            conjugacion.append(re.sub(r'ir\\b',r'o',verbo))\n",
    "            conjugacion.append(re.sub(r'ir\\b',r'es',verbo))  \n",
    "            conjugacion.append(re.sub(r'ir\\b',r'e',verbo))  \n",
    "            conjugacion.append(re.sub(r'ir\\b',r'imos',verbo))  \n",
    "            conjugacion.append(re.sub(r'ir\\b',r'ís',verbo))  \n",
    "            conjugacion.append(re.sub(r'ir\\b',r'en',verbo))\n",
    "    #Conjugación de verbos regulares que terminan en er\n",
    "    elif re.match(r'[a-z]+er\\b',verbo,re.IGNORECASE):\n",
    "        conjugacion.append(re.sub(r'er\\b',r'o',verbo)) \n",
    "        conjugacion.append(re.sub(r'er\\b',r'er',verbo)) \n",
    "        conjugacion.append(re.sub(r'er\\b',r'e',verbo)) \n",
    "        conjugacion.append(re.sub(r'er\\b',r'emos',verbo)) \n",
    "        conjugacion.append(re.sub(r'er\\b',r'éis',verbo)) \n",
    "        conjugacion.append(re.sub(r'er\\b',r'en',verbo)) \n",
    "        \n",
    "    return conjugacion\n",
    "    "
   ]
  },
  {
   "cell_type": "code",
   "execution_count": 31,
   "metadata": {},
   "outputs": [
    {
     "name": "stdout",
     "output_type": "stream",
     "text": [
      "modernizo\n",
      "modernizas\n",
      "moderniza\n",
      "modernizamos\n",
      "modernizáis\n",
      "modernizan\n"
     ]
    }
   ],
   "source": [
    "verbosAr = transductor(\"modernizar\")\n",
    "for i in verbosAr:\n",
    "    print(i)"
   ]
  },
  {
   "cell_type": "code",
   "execution_count": 64,
   "metadata": {},
   "outputs": [
    {
     "name": "stdout",
     "output_type": "stream",
     "text": [
      "destruyo\n",
      "destruyes\n",
      "destruye\n",
      "destruimos\n",
      "destruís\n",
      "destruyen\n"
     ]
    }
   ],
   "source": [
    "verbosIr = transductor(\"destruir\")\n",
    "for i in verbosIr:\n",
    "    print(i)"
   ]
  },
  {
   "cell_type": "code",
   "execution_count": 36,
   "metadata": {},
   "outputs": [
    {
     "name": "stdout",
     "output_type": "stream",
     "text": [
      "DEPendo\n",
      "DEPender\n",
      "DEPende\n",
      "DEPendemos\n",
      "DEPendéis\n",
      "DEPenden\n"
     ]
    }
   ],
   "source": [
    "verbosEr = transductor(\"DEPender\")\n",
    "for i in verbosEr:\n",
    "    print(i)"
   ]
  },
  {
   "cell_type": "code",
   "execution_count": 65,
   "metadata": {},
   "outputs": [
    {
     "name": "stdout",
     "output_type": "stream",
     "text": [
      "Vivo\n",
      "Vives\n",
      "Vive\n",
      "Vivimos\n",
      "Vivís\n",
      "Viven\n"
     ]
    }
   ],
   "source": [
    "verbosIr = transductor(\"Vivir\")\n",
    "for i in verbosIr:\n",
    "    print(i)"
   ]
  },
  {
   "cell_type": "code",
   "execution_count": null,
   "metadata": {},
   "outputs": [],
   "source": []
  }
 ],
 "metadata": {
  "kernelspec": {
   "display_name": "Python 3",
   "language": "python",
   "name": "python3"
  },
  "language_info": {
   "codemirror_mode": {
    "name": "ipython",
    "version": 3
   },
   "file_extension": ".py",
   "mimetype": "text/x-python",
   "name": "python",
   "nbconvert_exporter": "python",
   "pygments_lexer": "ipython3",
   "version": "3.8.5"
  }
 },
 "nbformat": 4,
 "nbformat_minor": 4
}
