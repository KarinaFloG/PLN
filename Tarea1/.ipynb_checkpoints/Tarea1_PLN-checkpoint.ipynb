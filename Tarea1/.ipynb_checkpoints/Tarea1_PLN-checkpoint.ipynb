{
 "cells": [
  {
   "cell_type": "markdown",
   "metadata": {},
   "source": [
    "# Práctica 1\n",
    "**Procesamiento de Lenguaje Natural**   \n",
    "**Facultad de Ingenierıa,UNAM**  \n",
    "**Flores García Karina**  \n",
    "Objetivo: Preprocesar un corpus a partir de m ́etodos basados en lenguajes formales."
   ]
  },
  {
   "cell_type": "code",
   "execution_count": 15,
   "metadata": {},
   "outputs": [],
   "source": [
    "#Importa bibliotecsa\n",
    "import nltk\n",
    "import re\n",
    "import string\n",
    "#NLTK para obtener el corpus\n",
    "from nltk.corpus import brown"
   ]
  },
  {
   "cell_type": "markdown",
   "metadata": {},
   "source": [
    "### Descarga de corpus en inglés"
   ]
  },
  {
   "cell_type": "code",
   "execution_count": 4,
   "metadata": {},
   "outputs": [
    {
     "name": "stderr",
     "output_type": "stream",
     "text": [
      "[nltk_data] Downloading package brown to\n",
      "[nltk_data]     C:\\Users\\karin\\AppData\\Roaming\\nltk_data...\n",
      "[nltk_data]   Unzipping corpora\\brown.zip.\n"
     ]
    },
    {
     "data": {
      "text/plain": [
       "True"
      ]
     },
     "execution_count": 4,
     "metadata": {},
     "output_type": "execute_result"
    }
   ],
   "source": [
    "nltk.download('brown')"
   ]
  },
  {
   "cell_type": "code",
   "execution_count": 6,
   "metadata": {},
   "outputs": [
    {
     "name": "stdout",
     "output_type": "stream",
     "text": [
      "The Fulton County Grand Jury said Friday an investigation of Atlanta's recent primary election produced `` no evidence '' that any irregularities took place . The jury further said in term-end presentments that the City Executive Committee , which had over-all charge of the election , `` deserves the praise and thanks of the City of Atlanta '' for the manner in which the election was conducted . The September-October term jury had been charged by Fulton Superior Court Judge Durwood Pye to investigate reports of possible `` irregularities '' in the hard-fought primary which was won by Mayor-nominate Ivan Allen Jr. . `` Only a relative handful of such reports was received '' , the jury said , `` considering the widespread interest in the election , the number of voters and the size of this city '' . The jury said it did find that many of Georgia's registration and election laws `` are outmoded or inadequate and often ambiguous '' . It recommended that Fulton legislators act `` to have th\n"
     ]
    }
   ],
   "source": [
    "#Obtenemos el corpus como un texto\n",
    "corpus = ' '.join(brown.words())\n",
    "print(corpus[:1000])"
   ]
  },
  {
   "cell_type": "code",
   "execution_count": 9,
   "metadata": {},
   "outputs": [
    {
     "name": "stdout",
     "output_type": "stream",
     "text": [
      "['The', 'Fulton', 'County', 'Grand', 'Jury', 'said', ...]\n"
     ]
    }
   ],
   "source": [
    "#Guarda el corpus de palabras\n",
    "corpus = brown.words()\n",
    "print(corpus)"
   ]
  },
  {
   "cell_type": "code",
   "execution_count": 10,
   "metadata": {},
   "outputs": [
    {
     "name": "stdout",
     "output_type": "stream",
     "text": [
      "['the', 'fulton', 'county', 'grand', 'jury', 'said', 'friday', 'an', 'investigation', 'of', \"atlanta's\", 'recent', 'primary', 'election', 'produced', '``', 'no', 'evidence', \"''\", 'that', 'any', 'irregularities', 'took', 'place', '.', 'the', 'jury', 'further', 'said', 'in', 'term-end', 'presentments', 'that', 'the', 'city', 'executive', 'committee', ',', 'which', 'had', 'over-all', 'charge', 'of', 'the', 'election', ',', '``', 'deserves', 'the', 'praise', 'and', 'thanks', 'of', 'the', 'city', 'of', 'atlanta', \"''\", 'for', 'the', 'manner', 'in', 'which', 'the', 'election', 'was', 'conducted', '.', 'the', 'september-october', 'term', 'jury', 'had', 'been', 'charged', 'by', 'fulton', 'superior', 'court', 'judge', 'durwood', 'pye', 'to', 'investigate', 'reports', 'of', 'possible', '``', 'irregularities', \"''\", 'in', 'the', 'hard-fought', 'primary', 'which', 'was', 'won', 'by', 'mayor-nominate', 'ivan']\n"
     ]
    }
   ],
   "source": [
    "#Pasar todo el corpus a minusculas\n",
    "corpus = [w.lower() for w in corpus]\n",
    "print(corpus[:100])"
   ]
  },
  {
   "cell_type": "markdown",
   "metadata": {},
   "source": [
    "### Limpieza de signos de puntuación, de interrogación, admiración y elementos no léxicos."
   ]
  },
  {
   "cell_type": "code",
   "execution_count": 66,
   "metadata": {},
   "outputs": [
    {
     "ename": "NameError",
     "evalue": "name 'regex' is not defined",
     "output_type": "error",
     "traceback": [
      "\u001b[1;31m---------------------------------------------------------------------------\u001b[0m",
      "\u001b[1;31mNameError\u001b[0m                                 Traceback (most recent call last)",
      "\u001b[1;32m<ipython-input-66-69a980339632>\u001b[0m in \u001b[0;36m<module>\u001b[1;34m\u001b[0m\n\u001b[0;32m      3\u001b[0m \u001b[0mclean_signal\u001b[0m \u001b[1;33m=\u001b[0m \u001b[1;33m[\u001b[0m\u001b[0mexp_reg_signal\u001b[0m\u001b[1;33m.\u001b[0m\u001b[0msub\u001b[0m\u001b[1;33m(\u001b[0m\u001b[1;34m''\u001b[0m\u001b[1;33m,\u001b[0m \u001b[0mw\u001b[0m\u001b[1;33m)\u001b[0m \u001b[1;32mfor\u001b[0m \u001b[0mw\u001b[0m \u001b[1;32min\u001b[0m \u001b[0mcorpus\u001b[0m\u001b[1;33m]\u001b[0m\u001b[1;33m\u001b[0m\u001b[1;33m\u001b[0m\u001b[0m\n\u001b[0;32m      4\u001b[0m \u001b[1;31m#Expresión regular para limpieza de números\u001b[0m\u001b[1;33m\u001b[0m\u001b[1;33m\u001b[0m\u001b[1;33m\u001b[0m\u001b[0m\n\u001b[1;32m----> 5\u001b[1;33m \u001b[0mclean_num\u001b[0m \u001b[1;33m=\u001b[0m \u001b[1;33m[\u001b[0m\u001b[0mw\u001b[0m \u001b[1;32mfor\u001b[0m \u001b[0mw\u001b[0m \u001b[1;32min\u001b[0m \u001b[0mclean_signal\u001b[0m \u001b[1;32mif\u001b[0m \u001b[0mregex\u001b[0m\u001b[1;33m.\u001b[0m\u001b[0msub\u001b[0m\u001b[1;33m(\u001b[0m\u001b[1;34m\"[0-9]*\"\u001b[0m\u001b[1;33m,\u001b[0m\u001b[1;34m\"\"\u001b[0m\u001b[1;33m,\u001b[0m\u001b[0mw\u001b[0m\u001b[1;33m)\u001b[0m\u001b[1;33m]\u001b[0m\u001b[1;33m\u001b[0m\u001b[1;33m\u001b[0m\u001b[0m\n\u001b[0m\u001b[0;32m      6\u001b[0m \u001b[1;31m#Limpieza de espacios en blanco\u001b[0m\u001b[1;33m\u001b[0m\u001b[1;33m\u001b[0m\u001b[1;33m\u001b[0m\u001b[0m\n\u001b[0;32m      7\u001b[0m \u001b[0mclean_corpus\u001b[0m \u001b[1;33m=\u001b[0m \u001b[1;33m[\u001b[0m\u001b[0mw\u001b[0m \u001b[1;32mfor\u001b[0m \u001b[0mw\u001b[0m \u001b[1;32min\u001b[0m \u001b[0mclean_signal\u001b[0m \u001b[1;32mif\u001b[0m \u001b[0mw\u001b[0m\u001b[1;33m!=\u001b[0m\u001b[1;34m''\u001b[0m\u001b[1;33m]\u001b[0m\u001b[1;33m\u001b[0m\u001b[1;33m\u001b[0m\u001b[0m\n",
      "\u001b[1;32m<ipython-input-66-69a980339632>\u001b[0m in \u001b[0;36m<listcomp>\u001b[1;34m(.0)\u001b[0m\n\u001b[0;32m      3\u001b[0m \u001b[0mclean_signal\u001b[0m \u001b[1;33m=\u001b[0m \u001b[1;33m[\u001b[0m\u001b[0mexp_reg_signal\u001b[0m\u001b[1;33m.\u001b[0m\u001b[0msub\u001b[0m\u001b[1;33m(\u001b[0m\u001b[1;34m''\u001b[0m\u001b[1;33m,\u001b[0m \u001b[0mw\u001b[0m\u001b[1;33m)\u001b[0m \u001b[1;32mfor\u001b[0m \u001b[0mw\u001b[0m \u001b[1;32min\u001b[0m \u001b[0mcorpus\u001b[0m\u001b[1;33m]\u001b[0m\u001b[1;33m\u001b[0m\u001b[1;33m\u001b[0m\u001b[0m\n\u001b[0;32m      4\u001b[0m \u001b[1;31m#Expresión regular para limpieza de números\u001b[0m\u001b[1;33m\u001b[0m\u001b[1;33m\u001b[0m\u001b[1;33m\u001b[0m\u001b[0m\n\u001b[1;32m----> 5\u001b[1;33m \u001b[0mclean_num\u001b[0m \u001b[1;33m=\u001b[0m \u001b[1;33m[\u001b[0m\u001b[0mw\u001b[0m \u001b[1;32mfor\u001b[0m \u001b[0mw\u001b[0m \u001b[1;32min\u001b[0m \u001b[0mclean_signal\u001b[0m \u001b[1;32mif\u001b[0m \u001b[0mregex\u001b[0m\u001b[1;33m.\u001b[0m\u001b[0msub\u001b[0m\u001b[1;33m(\u001b[0m\u001b[1;34m\"[0-9]*\"\u001b[0m\u001b[1;33m,\u001b[0m\u001b[1;34m\"\"\u001b[0m\u001b[1;33m,\u001b[0m\u001b[0mw\u001b[0m\u001b[1;33m)\u001b[0m\u001b[1;33m]\u001b[0m\u001b[1;33m\u001b[0m\u001b[1;33m\u001b[0m\u001b[0m\n\u001b[0m\u001b[0;32m      6\u001b[0m \u001b[1;31m#Limpieza de espacios en blanco\u001b[0m\u001b[1;33m\u001b[0m\u001b[1;33m\u001b[0m\u001b[1;33m\u001b[0m\u001b[0m\n\u001b[0;32m      7\u001b[0m \u001b[0mclean_corpus\u001b[0m \u001b[1;33m=\u001b[0m \u001b[1;33m[\u001b[0m\u001b[0mw\u001b[0m \u001b[1;32mfor\u001b[0m \u001b[0mw\u001b[0m \u001b[1;32min\u001b[0m \u001b[0mclean_signal\u001b[0m \u001b[1;32mif\u001b[0m \u001b[0mw\u001b[0m\u001b[1;33m!=\u001b[0m\u001b[1;34m''\u001b[0m\u001b[1;33m]\u001b[0m\u001b[1;33m\u001b[0m\u001b[1;33m\u001b[0m\u001b[0m\n",
      "\u001b[1;31mNameError\u001b[0m: name 'regex' is not defined"
     ]
    }
   ],
   "source": [
    "#Expresión regular para limpieza de signos\n",
    "exp_reg_signal = re.compile('[%s]' % re.escape(string.punctuation))\n",
    "clean_signal = [exp_reg_signal.sub('', w) for w in corpus]\n",
    "#Expresión regular para limpieza de números\n",
    "clean_num = [w for w in clean_signal if re.sub(\"[0-9]*\",\"\",w)]\n",
    "#Limpieza de espacios en blanco\n",
    "clean_corpus = [w for w in clean_signal if w!='']"
   ]
  },
  {
   "cell_type": "code",
   "execution_count": 37,
   "metadata": {},
   "outputs": [
    {
     "name": "stdout",
     "output_type": "stream",
     "text": [
      "['the', 'fulton', 'county', 'grand', 'jury', 'said', 'friday', 'an', 'investigation', 'of', 'atlantas', 'recent', 'primary', 'election', 'produced', 'no', 'evidence', 'that', 'any', 'irregularities', 'took', 'place', 'the', 'jury', 'further', 'said', 'in', 'termend', 'presentments', 'that', 'the', 'city', 'executive', 'committee', 'which', 'had', 'overall', 'charge', 'of', 'the', 'election', 'deserves', 'the', 'praise', 'and', 'thanks', 'of', 'the', 'city', 'of', 'atlanta', 'for', 'the', 'manner', 'in', 'which', 'the', 'election', 'was', 'conducted', 'the', 'septemberoctober', 'term', 'jury', 'had', 'been', 'charged', 'by', 'fulton', 'superior', 'court', 'judge', 'durwood', 'pye', 'to', 'investigate', 'reports', 'of', 'possible', 'irregularities', 'in', 'the', 'hardfought', 'primary', 'which', 'was', 'won', 'by', 'mayornominate', 'ivan', 'allen', 'jr', 'only', 'a', 'relative', 'handful', 'of', 'such', 'reports', 'was', 'received', 'the', 'jury', 'said', 'considering', 'the', 'widespread', 'interest', 'in', 'the', 'election', 'the', 'number', 'of', 'voters', 'and', 'the', 'size', 'of', 'this', 'city', 'the', 'jury', 'said', 'it', 'did', 'find', 'that', 'many', 'of', 'georgias', 'registration', 'and', 'election', 'laws', 'are', 'outmoded', 'or', 'inadequate', 'and', 'often', 'ambiguous', 'it', 'recommended', 'that', 'fulton', 'legislators', 'act', 'to', 'have', 'these', 'laws', 'studied', 'and', 'revised', 'to', 'the', 'end', 'of', 'modernizing', 'and', 'improving', 'them', 'the', 'grand', 'jury', 'commented', 'on', 'a', 'number', 'of', 'other', 'topics', 'among', 'them', 'the', 'atlanta', 'and', 'fulton', 'county', 'purchasing', 'departments', 'which', 'it', 'said', 'are', 'well', 'operated', 'and', 'follow', 'generally', 'accepted', 'practices', 'which', 'inure', 'to', 'the', 'best', 'interest', 'of', 'both', 'governments', 'merger', 'proposed', 'however', 'the', 'jury', 'said', 'it', 'believes', 'these', 'two', 'offices', 'should', 'be', 'combined', 'to', 'achieve', 'greater', 'efficiency', 'and', 'reduce', 'the', 'cost', 'of', 'administration', 'the', 'city', 'purchasing', 'department', 'the', 'jury', 'said', 'is', 'lacking', 'in', 'experienced', 'clerical', 'personnel', 'as', 'a', 'result', 'of', 'city', 'personnel', 'policies', 'it', 'urged', 'that', 'the', 'city', 'take', 'steps', 'to', 'remedy', 'this', 'problem', 'implementation', 'of', 'georgias', 'automobile', 'title', 'law', 'was', 'also', 'recommended', 'by', 'the', 'outgoing', 'jury', 'it', 'urged', 'that', 'the', 'next', 'legislature', 'provide', 'enabling', 'funds', 'and', 'reset', 'the', 'effective', 'date', 'so', 'that', 'an', 'orderly', 'implementation', 'of', 'the', 'law', 'may', 'be', 'effected', 'the', 'grand', 'jury', 'took', 'a', 'swipe', 'at', 'the', 'state', 'welfare', 'departments', 'handling', 'of', 'federal', 'funds', 'granted', 'for', 'child', 'welfare', 'services', 'in', 'foster', 'homes', 'this', 'is', 'one', 'of', 'the', 'major', 'items', 'in', 'the', 'fulton', 'county', 'general', 'assistance', 'program', 'the', 'jury', 'said', 'but', 'the', 'state', 'welfare', 'department', 'has', 'seen', 'fit', 'to', 'distribute', 'these', 'funds', 'through', 'the', 'welfare', 'departments', 'of', 'all', 'the', 'counties', 'in', 'the', 'state', 'with', 'the', 'exception', 'of', 'fulton', 'county', 'which', 'receives', 'none', 'of', 'this', 'money', 'the', 'jurors', 'said', 'they', 'realize', 'a', 'proportionate', 'distribution', 'of', 'these', 'funds', 'might', 'disable', 'this', 'program', 'in', 'our', 'less', 'populous', 'counties', 'nevertheless', 'we', 'feel', 'that', 'in', 'the', 'future', 'fulton', 'county', 'should', 'receive', 'some', 'portion', 'of', 'these', 'available', 'funds', 'the', 'jurors', 'said', 'failure', 'to', 'do', 'this', 'will', 'continue', 'to', 'place', 'a', 'disproportionate', 'burden', 'on', 'fulton', 'taxpayers', 'the', 'jury', 'also', 'commented', 'on', 'the', 'fulton', 'ordinarys', 'court', 'which', 'has', 'been', 'under', 'fire', 'for', 'its', 'practices', 'in', 'the', 'appointment', 'of', 'appraisers', 'guardians', 'and', 'administrators', 'and', 'the', 'awarding', 'of', 'fees', 'and', 'compensation', 'wards', 'protected', 'the', 'jury', 'said', 'it', 'found', 'the', 'court', 'has', 'incorporated', 'into', 'its', 'operating', 'procedures', 'the', 'recommendations', 'of', 'two', 'previous', 'grand', 'juries', 'the', 'atlanta', 'bar', 'association', 'and', 'an', 'interim', 'citizens', 'committee', 'these', 'actions', 'should', 'serve', 'to', 'protect', 'in', 'fact', 'and', 'in', 'effect', 'the', 'courts', 'wards', 'from', 'undue', 'costs', 'and', 'its', 'appointed', 'and', 'elected', 'servants', 'from', 'unmeritorious', 'criticisms', 'the', 'jury', 'said', 'regarding', 'atlantas', 'new', 'multimilliondollar', 'airport', 'the', 'jury', 'recommended', 'that', 'when', 'the', 'new', 'management', 'takes', 'charge', 'jan', '1', 'the', 'airport', 'be', 'operated', 'in', 'a', 'manner', 'that', 'will', 'eliminate', 'political', 'influences', 'the', 'jury', 'did', 'not', 'elaborate', 'but', 'it', 'added', 'that', 'there', 'should', 'be', 'periodic', 'surveillance', 'of', 'the', 'pricing', 'practices', 'of', 'the', 'concessionaires', 'for', 'the', 'purpose', 'of', 'keeping', 'the', 'prices', 'reasonable', 'ask', 'jail', 'deputies', 'on', 'other', 'matters', 'the', 'jury', 'recommended', 'that', '1', 'four', 'additional', 'deputies', 'be', 'employed', 'at', 'the', 'fulton', 'county', 'jail', 'and', 'a', 'doctor', 'medical', 'intern', 'or', 'extern', 'be', 'employed', 'for', 'night', 'and', 'weekend', 'duty', 'at', 'the', 'jail', '2', 'fulton', 'legislators', 'work', 'with', 'city', 'officials', 'to', 'pass', 'enabling', 'legislation', 'that', 'will', 'permit', 'the', 'establishment', 'of', 'a', 'fair', 'and', 'equitable', 'pension', 'plan', 'for', 'city', 'employes', 'the', 'jury', 'praised', 'the', 'administration', 'and', 'operation', 'of', 'the', 'atlanta', 'police', 'department', 'the', 'fulton', 'tax', 'commissioners', 'office', 'the', 'bellwood', 'and', 'alpharetta', 'prison', 'farms', 'grady', 'hospital', 'and', 'the', 'fulton', 'health', 'department', 'mayor', 'william', 'b', 'hartsfield', 'filed', 'suit', 'for', 'divorce', 'from', 'his', 'wife', 'pearl', 'williams', 'hartsfield', 'in', 'fulton', 'superior', 'court', 'friday', 'his', 'petition', 'charged', 'mental', 'cruelty', 'the', 'couple', 'was', 'married', 'aug', '2', '1913', 'they', 'have', 'a', 'son', 'william', 'berry', 'jr', 'and', 'a', 'daughter', 'mrs', 'j', 'm', 'cheshire', 'of', 'griffin', 'attorneys', 'for', 'the', 'mayor', 'said', 'that', 'an', 'amicable', 'property', 'settlement', 'has', 'been', 'agreed', 'upon', 'the', 'petition', 'listed', 'the', 'mayors', 'occupation', 'as', 'attorney', 'and', 'his', 'age', 'as', '71', 'it', 'listed', 'his', 'wifes', 'age', 'as', '74', 'and', 'place', 'of', 'birth', 'as', 'opelika', 'ala', 'the', 'petition', 'said', 'that', 'the', 'couple', 'has', 'not', 'lived', 'together', 'as', 'man', 'and', 'wife', 'for', 'more', 'than', 'a', 'year', 'the', 'hartsfield', 'home', 'is', 'at', '637', 'e', 'pelham', 'rd', 'aj', 'henry', 'l', 'bowden', 'was', 'listed', 'on', 'the', 'petition', 'as', 'the', 'mayors', 'attorney', 'hartsfield', 'has', 'been', 'mayor', 'of', 'atlanta', 'with', 'exception', 'of', 'one', 'brief', 'interlude', 'since', '1937', 'his', 'political', 'career', 'goes', 'back', 'to', 'his', 'election', 'to', 'city', 'council', 'in', '1923', 'the', 'mayors', 'present', 'term', 'of', 'office', 'expires', 'jan', '1', 'he', 'will', 'be', 'succeeded', 'by', 'ivan', 'allen', 'jr', 'who', 'became', 'a', 'candidate', 'in', 'the', 'sept', '13', 'primary', 'after', 'mayor', 'hartsfield', 'announced', 'that', 'he', 'would', 'not', 'run', 'for', 'reelection', 'georgia', 'republicans', 'are', 'getting', 'strong', 'encouragement', 'to', 'enter', 'a', 'candidate', 'in', 'the', '1962', 'governors', 'race', 'a', 'top', 'official', 'said', 'wednesday', 'robert', 'snodgrass', 'state', 'gop', 'chairman', 'said', 'a', 'meeting', 'held', 'tuesday', 'night', 'in', 'blue', 'ridge', 'brought', 'enthusiastic', 'responses', 'from', 'the', 'audience', 'state', 'party', 'chairman', 'james', 'w', 'dorsey', 'added', 'that', 'enthusiasm', 'was', 'picking', 'up', 'for', 'a', 'state', 'rally', 'to', 'be', 'held', 'sept', '8', 'in', 'savannah', 'at', 'which', 'newly', 'elected', 'texas', 'sen', 'john', 'tower', 'will', 'be', 'the', 'featured', 'speaker', 'in', 'the', 'blue', 'ridge', 'meeting', 'the', 'audience', 'was', 'warned', 'that', 'entering', 'a', 'candidate', 'for', 'governor', 'would', 'force', 'it', 'to', 'take', 'petitions', 'out', 'into', 'voting', 'precincts', 'to', 'obtain', 'the', 'signatures', 'of', 'registered', 'voters', 'despite', 'the', 'warning', 'there', 'was', 'a', 'unanimous', 'vote', 'to', 'enter', 'a', 'candidate', 'according', 'to', 'republicans', 'who', 'attended', 'when', 'the', 'crowd', 'was', 'asked', 'whether', 'it', 'wanted', 'to', 'wait', 'one', 'more', 'term', 'to']\n"
     ]
    }
   ],
   "source": [
    "print(clean_corpus[:1000])"
   ]
  },
  {
   "cell_type": "markdown",
   "metadata": {},
   "source": [
    "### Limpieza de stopwords"
   ]
  },
  {
   "cell_type": "code",
   "execution_count": 12,
   "metadata": {},
   "outputs": [
    {
     "name": "stderr",
     "output_type": "stream",
     "text": [
      "[nltk_data] Downloading package stopwords to\n",
      "[nltk_data]     C:\\Users\\karin\\AppData\\Roaming\\nltk_data...\n",
      "[nltk_data]   Unzipping corpora\\stopwords.zip.\n"
     ]
    },
    {
     "data": {
      "text/plain": [
       "True"
      ]
     },
     "execution_count": 12,
     "metadata": {},
     "output_type": "execute_result"
    }
   ],
   "source": [
    "#Descarga de lista de stopwords\n",
    "nltk.download('stopwords')"
   ]
  },
  {
   "cell_type": "code",
   "execution_count": 13,
   "metadata": {},
   "outputs": [
    {
     "name": "stdout",
     "output_type": "stream",
     "text": [
      "['i', 'me', 'my', 'myself', 'we', 'our', 'ours', 'ourselves', 'you', \"you're\", \"you've\", \"you'll\", \"you'd\", 'your', 'yours', 'yourself', 'yourselves', 'he', 'him', 'his', 'himself', 'she', \"she's\", 'her', 'hers', 'herself', 'it', \"it's\", 'its', 'itself', 'they', 'them', 'their', 'theirs', 'themselves', 'what', 'which', 'who', 'whom', 'this', 'that', \"that'll\", 'these', 'those', 'am', 'is', 'are', 'was', 'were', 'be', 'been', 'being', 'have', 'has', 'had', 'having', 'do', 'does', 'did', 'doing', 'a', 'an', 'the', 'and', 'but', 'if', 'or', 'because', 'as', 'until', 'while', 'of', 'at', 'by', 'for', 'with', 'about', 'against', 'between', 'into', 'through', 'during', 'before', 'after', 'above', 'below', 'to', 'from', 'up', 'down', 'in', 'out', 'on', 'off', 'over', 'under', 'again', 'further', 'then', 'once', 'here', 'there', 'when', 'where', 'why', 'how', 'all', 'any', 'both', 'each', 'few', 'more', 'most', 'other', 'some', 'such', 'no', 'nor', 'not', 'only', 'own', 'same', 'so', 'than', 'too', 'very', 's', 't', 'can', 'will', 'just', 'don', \"don't\", 'should', \"should've\", 'now', 'd', 'll', 'm', 'o', 're', 've', 'y', 'ain', 'aren', \"aren't\", 'couldn', \"couldn't\", 'didn', \"didn't\", 'doesn', \"doesn't\", 'hadn', \"hadn't\", 'hasn', \"hasn't\", 'haven', \"haven't\", 'isn', \"isn't\", 'ma', 'mightn', \"mightn't\", 'mustn', \"mustn't\", 'needn', \"needn't\", 'shan', \"shan't\", 'shouldn', \"shouldn't\", 'wasn', \"wasn't\", 'weren', \"weren't\", 'won', \"won't\", 'wouldn', \"wouldn't\"]\n"
     ]
    }
   ],
   "source": [
    "#Obtención de stopwords para inglés\n",
    "from nltk.corpus import stopwords\n",
    "\n",
    "stopwords_list = stopwords.words('english')\n",
    "print(stopwords_list)"
   ]
  },
  {
   "cell_type": "code",
   "execution_count": 29,
   "metadata": {},
   "outputs": [
    {
     "name": "stdout",
     "output_type": "stream",
     "text": [
      "['fulton', 'county', 'grand', 'jury', 'said', 'friday', 'investigation', 'atlantas', 'recent', 'primary', 'election', 'produced', 'evidence', 'irregularities', 'took', 'place', 'jury', 'said', 'termend', 'presentments', 'city', 'executive', 'committee', 'overall', 'charge', 'election', 'deserves', 'praise', 'thanks', 'city', 'atlanta', 'manner', 'election', 'conducted', 'septemberoctober', 'term', 'jury', 'charged', 'fulton', 'superior', 'court', 'judge', 'durwood', 'pye', 'investigate', 'reports', 'possible', 'irregularities', 'hardfought', 'primary', 'mayornominate', 'ivan', 'allen', 'jr', 'relative', 'handful', 'reports', 'received', 'jury', 'said', 'considering', 'widespread', 'interest', 'election', 'number', 'voters', 'size', 'city', 'jury', 'said', 'find', 'many', 'georgias', 'registration', 'election', 'laws', 'outmoded', 'inadequate', 'often', 'ambiguous', 'recommended', 'fulton', 'legislators', 'act', 'laws', 'studied', 'revised', 'end', 'modernizing', 'improving', 'grand', 'jury', 'commented', 'number', 'topics', 'among', 'atlanta', 'fulton', 'county', 'purchasing', 'departments', 'said', 'well', 'operated', 'follow', 'generally', 'accepted', 'practices', 'inure', 'best', 'interest', 'governments', 'merger', 'proposed', 'however', 'jury', 'said', 'believes', 'two', 'offices', 'combined', 'achieve', 'greater', 'efficiency', 'reduce', 'cost', 'administration', 'city', 'purchasing', 'department', 'jury', 'said', 'lacking', 'experienced', 'clerical', 'personnel', 'result', 'city', 'personnel', 'policies', 'urged', 'city', 'take', 'steps', 'remedy', 'problem', 'implementation', 'georgias', 'automobile', 'title', 'law', 'also', 'recommended', 'outgoing', 'jury', 'urged', 'next', 'legislature', 'provide', 'enabling', 'funds', 'reset', 'effective', 'date', 'orderly', 'implementation', 'law', 'may', 'effected', 'grand', 'jury', 'took', 'swipe', 'state', 'welfare', 'departments', 'handling', 'federal', 'funds', 'granted', 'child', 'welfare', 'services', 'foster', 'homes', 'one', 'major', 'items', 'fulton', 'county', 'general', 'assistance', 'program', 'jury', 'said', 'state', 'welfare', 'department', 'seen', 'fit', 'distribute', 'funds', 'welfare', 'departments', 'counties', 'state', 'exception', 'fulton', 'county', 'receives', 'none', 'money', 'jurors', 'said', 'realize', 'proportionate', 'distribution', 'funds', 'might', 'disable', 'program', 'less', 'populous', 'counties', 'nevertheless', 'feel', 'future', 'fulton', 'county', 'receive', 'portion', 'available', 'funds', 'jurors', 'said', 'failure', 'continue', 'place', 'disproportionate', 'burden', 'fulton', 'taxpayers', 'jury', 'also', 'commented', 'fulton', 'ordinarys', 'court', 'fire', 'practices', 'appointment', 'appraisers', 'guardians', 'administrators', 'awarding', 'fees', 'compensation', 'wards', 'protected', 'jury', 'said', 'found', 'court', 'incorporated', 'operating', 'procedures', 'recommendations', 'two', 'previous', 'grand', 'juries', 'atlanta', 'bar', 'association', 'interim', 'citizens', 'committee', 'actions', 'serve', 'protect', 'fact', 'effect', 'courts', 'wards', 'undue', 'costs', 'appointed', 'elected', 'servants', 'unmeritorious', 'criticisms', 'jury', 'said', 'regarding', 'atlantas', 'new', 'multimilliondollar', 'airport', 'jury', 'recommended', 'new', 'management', 'takes', 'charge', 'jan', '1', 'airport', 'operated', 'manner', 'eliminate', 'political', 'influences', 'jury', 'elaborate', 'added', 'periodic', 'surveillance', 'pricing', 'practices', 'concessionaires', 'purpose', 'keeping', 'prices', 'reasonable', 'ask', 'jail', 'deputies', 'matters', 'jury', 'recommended', '1', 'four', 'additional', 'deputies', 'employed', 'fulton', 'county', 'jail', 'doctor', 'medical', 'intern', 'extern', 'employed', 'night', 'weekend', 'duty', 'jail', '2', 'fulton', 'legislators', 'work', 'city', 'officials', 'pass', 'enabling', 'legislation', 'permit', 'establishment', 'fair', 'equitable', 'pension', 'plan', 'city', 'employes', 'jury', 'praised', 'administration', 'operation', 'atlanta', 'police', 'department', 'fulton', 'tax', 'commissioners', 'office', 'bellwood', 'alpharetta', 'prison', 'farms', 'grady', 'hospital', 'fulton', 'health', 'department', 'mayor', 'william', 'b', 'hartsfield', 'filed', 'suit', 'divorce', 'wife', 'pearl', 'williams', 'hartsfield', 'fulton', 'superior', 'court', 'friday', 'petition', 'charged', 'mental', 'cruelty', 'couple', 'married', 'aug', '2', '1913', 'son', 'william', 'berry', 'jr', 'daughter', 'mrs', 'j', 'cheshire', 'griffin', 'attorneys', 'mayor', 'said', 'amicable', 'property', 'settlement', 'agreed', 'upon', 'petition', 'listed', 'mayors', 'occupation', 'attorney', 'age', '71', 'listed', 'wifes', 'age', '74', 'place', 'birth', 'opelika', 'ala', 'petition', 'said', 'couple', 'lived', 'together', 'man', 'wife', 'year', 'hartsfield', 'home', '637', 'e', 'pelham', 'rd', 'aj', 'henry', 'l', 'bowden', 'listed', 'petition', 'mayors', 'attorney', 'hartsfield', 'mayor', 'atlanta', 'exception', 'one', 'brief', 'interlude', 'since', '1937', 'political', 'career', 'goes', 'back', 'election', 'city', 'council', '1923', 'mayors', 'present', 'term', 'office', 'expires', 'jan', '1', 'succeeded', 'ivan', 'allen', 'jr', 'became', 'candidate', 'sept', '13', 'primary', 'mayor', 'hartsfield', 'announced', 'would', 'run', 'reelection', 'georgia', 'republicans', 'getting', 'strong', 'encouragement', 'enter', 'candidate', '1962', 'governors', 'race', 'top', 'official', 'said', 'wednesday', 'robert', 'snodgrass', 'state', 'gop', 'chairman', 'said', 'meeting', 'held', 'tuesday', 'night', 'blue', 'ridge', 'brought', 'enthusiastic', 'responses', 'audience', 'state', 'party', 'chairman', 'james', 'w', 'dorsey', 'added', 'enthusiasm', 'picking', 'state', 'rally', 'held', 'sept', '8', 'savannah', 'newly', 'elected', 'texas', 'sen', 'john', 'tower', 'featured', 'speaker', 'blue', 'ridge', 'meeting', 'audience', 'warned', 'entering', 'candidate', 'governor', 'would', 'force', 'take', 'petitions', 'voting', 'precincts', 'obtain', 'signatures', 'registered', 'voters', 'despite', 'warning', 'unanimous', 'vote', 'enter', 'candidate', 'according', 'republicans', 'attended', 'crowd', 'asked', 'whether', 'wanted', 'wait', 'one', 'term', 'make', 'race', 'voted', 'dissents', 'largest', 'hurdle', 'republicans', 'would', 'face', 'state', 'law', 'says', 'making', 'first', 'race', 'one', 'two', 'alternative', 'courses', 'must', 'taken', '1', 'five', 'per', 'cent', 'voters', 'county', 'must', 'sign', 'petitions', 'requesting', 'republicans', 'allowed', 'place', 'names', 'candidates', 'general', 'election', 'ballot', '2', 'republicans', 'must', 'hold', 'primary', 'county', 'unit', 'system', 'system', 'party', 'opposes', 'platform', 'sam', 'caldwell', 'state', 'highway', 'department', 'public', 'relations', 'director', 'resigned', 'tuesday', 'work', 'lt', 'gov', 'garland', 'byrds', 'campaign', 'caldwells', 'resignation', 'expected', 'time', 'succeeded', 'rob', 'ledford', 'gainesville', 'assistant', 'three', 'years', 'gubernatorial', 'campaign', 'starts', 'caldwell', 'expected', 'become', 'campaign', 'coordinator', 'byrd', 'georgia', 'legislature', 'wind', '1961', 'session', 'monday', 'head', 'home', 'highway', 'bond', 'money', 'approved', 'follow', 'shortly', 'adjournment', 'monday', 'afternoon', 'senate', 'expected', 'approve', 'study', 'number', 'legislators', 'allotted', 'rural', 'urban', 'areas', 'determine', 'adjustments', 'made', 'gov', 'vandiver', 'expected', 'make', 'traditional', 'visit', 'chambers', 'work', 'toward', 'adjournment', 'vandiver', 'likely', 'mention', '100', 'million', 'highway', 'bond', 'issue', 'approved', 'earlier', 'session', 'first', 'priority', 'item', 'construction', 'bonds', 'meanwhile', 'learned', 'state', 'highway', 'department', 'near', 'ready', 'issue', 'first', '30', 'million', 'worth', 'highway', 'reconstruction', 'bonds', 'bond', 'issue', 'go', 'state', 'courts', 'friendly', 'test', 'suit', 'test', 'validity', 'act', 'sales', 'begin', 'contracts', 'let', 'repair', 'work', 'georgias', 'heavily', 'traveled', 'highways', 'highway', 'department', 'source', 'said', 'also', 'plan', 'issue', '3', 'million', '4', 'million', 'worth', 'rural', 'roads', 'authority', 'bonds', 'rural', 'road', 'construction', 'work', 'revolving', 'fund', 'department', 'apparently', 'intends', 'make', 'rural', 'roads', 'authority', 'revolving', 'fund', 'new', 'bonds', 'would', 'issued', 'every', 'time', 'portion', 'old', 'ones', 'paid', 'tax', 'authorities', 'vandiver', 'opened', 'race', 'governor', '1958', 'battle', 'legislature', 'issuance', '50', 'million', 'worth', 'additional', 'rural', 'roads', 'bonds', 'proposed', 'gov', 'marvin', 'griffin', 'highway', 'department', 'source', 'told', 'constitution', 'however', 'vandiver', 'consulted', 'yet', 'plans', 'issue', 'new', 'rural', 'roads', 'bonds', 'schley', 'county', 'rep', 'b', 'pelham', 'offer', 'resolution', 'monday', 'house', 'rescind', 'bodys', 'action', 'friday', 'voting', '10', 'per', 'day', 'increase', 'expense', 'allowances', 'pelham', 'said', 'sunday', 'night', 'research', 'done', 'whether', 'quickie', 'vote', 'increase', 'repealed', 'outright', 'whether', 'notice', 'would', 'first', 'given', 'reconsideration', 'action', 'would', 'sought', 'emphasizing', 'technical', 'details', 'fully', 'worked', 'pelham', 'said', 'resolution', 'would', 'seek', 'set', 'aside', 'privilege', 'resolution', 'house', 'voted', '8731', 'similar', 'resolution', 'passed', 'senate', 'vote', '295', 'sunday', 'night', 'word', 'resolution', 'offered', 'rescind', 'action', 'pelham', 'pointed', 'georgia', 'voters', 'last', 'november', 'rejected', 'constitutional', 'amendment', 'allow', 'legislators', 'vote', 'pay', 'raises', 'future', 'legislature', 'sessions', 'veteran', 'jackson', 'county', 'legislator', 'ask', 'georgia', 'house', 'monday', 'back', 'federal', 'aid', 'education', 'something', 'consistently', 'opposed', 'past', 'rep', 'mac', 'barber', 'commerce', 'asking', 'house', 'privilege', 'resolution', 'endorse', 'increased', 'federal', 'support', 'public', 'education', 'provided', 'funds', 'received', 'expended', 'state', 'funds', 'barber', '13th', 'year', 'legislator', 'said', 'members', 'congressional', 'delegation', 'washington', 'would', 'like', 'see', 'resolution', 'passed', 'added', 'none', 'georgias', 'congressmen', 'specifically', 'asked', 'offer', 'resolution', 'resolution', 'barber', 'tossed', 'house', 'hopper', 'friday', 'formally', 'read', 'monday', 'says']\n"
     ]
    }
   ],
   "source": [
    "#Función para remover stopwords\n",
    "def remove_stopwords(clean_corpus):\n",
    "    return [w for w in clean_corpus if w not in stopwords_list]\n",
    "\n",
    "#Corpus sin stopwords\n",
    "corpus_no_stopwords = remove_stopwords(clean_corpus)\n",
    "print(corpus_no_stopwords[:1000])"
   ]
  },
  {
   "cell_type": "markdown",
   "metadata": {},
   "source": [
    "### Aplicación del algoritmo de Porter para Stemming"
   ]
  },
  {
   "cell_type": "code",
   "execution_count": 30,
   "metadata": {},
   "outputs": [],
   "source": [
    "#Importar paquetes\n",
    "from nltk.tokenize import word_tokenize\n",
    "from nltk.stem.porter import PorterStemmer"
   ]
  },
  {
   "cell_type": "code",
   "execution_count": 32,
   "metadata": {},
   "outputs": [
    {
     "name": "stdout",
     "output_type": "stream",
     "text": [
      "['fulton', 'counti', 'grand', 'juri', 'said', 'friday', 'investig', 'atlanta', 'recent', 'primari', 'elect', 'produc', 'evid', 'irregular', 'took', 'place', 'juri', 'said', 'termend', 'present', 'citi', 'execut', 'committe', 'overal', 'charg', 'elect', 'deserv', 'prais', 'thank', 'citi', 'atlanta', 'manner', 'elect', 'conduct', 'septemberoctob', 'term', 'juri', 'charg', 'fulton', 'superior', 'court', 'judg', 'durwood', 'pye', 'investig', 'report', 'possibl', 'irregular', 'hardfought', 'primari', 'mayornomin', 'ivan', 'allen', 'jr', 'rel', 'hand', 'report', 'receiv', 'juri', 'said', 'consid', 'widespread', 'interest', 'elect', 'number', 'voter', 'size', 'citi', 'juri', 'said', 'find', 'mani', 'georgia', 'registr', 'elect', 'law', 'outmod', 'inadequ', 'often', 'ambigu', 'recommend', 'fulton', 'legisl', 'act', 'law', 'studi', 'revis', 'end', 'modern', 'improv', 'grand', 'juri', 'comment', 'number', 'topic', 'among', 'atlanta', 'fulton', 'counti', 'purchas']\n"
     ]
    }
   ],
   "source": [
    "porterAlgo = PorterStemmer()\n",
    "corpus_stemmed = [porterAlgo.stem(w) for w in corpus_no_stopwords]\n",
    "print(corpus_stemmed[:100])"
   ]
  },
  {
   "cell_type": "code",
   "execution_count": 64,
   "metadata": {},
   "outputs": [],
   "source": [
    "i = '5'"
   ]
  },
  {
   "cell_type": "code",
   "execution_count": 65,
   "metadata": {},
   "outputs": [],
   "source": [
    "if i.isalnum()==False:\n",
    "    print(\"Weno?\")"
   ]
  },
  {
   "cell_type": "code",
   "execution_count": null,
   "metadata": {},
   "outputs": [],
   "source": []
  }
 ],
 "metadata": {
  "kernelspec": {
   "display_name": "Python 3",
   "language": "python",
   "name": "python3"
  },
  "language_info": {
   "codemirror_mode": {
    "name": "ipython",
    "version": 3
   },
   "file_extension": ".py",
   "mimetype": "text/x-python",
   "name": "python",
   "nbconvert_exporter": "python",
   "pygments_lexer": "ipython3",
   "version": "3.8.5"
  }
 },
 "nbformat": 4,
 "nbformat_minor": 4
}
